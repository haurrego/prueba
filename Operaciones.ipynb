{
  "nbformat": 4,
  "nbformat_minor": 0,
  "metadata": {
    "colab": {
      "provenance": [],
      "authorship_tag": "ABX9TyP9Ow6aXUXmugZ5inhtEWrw",
      "include_colab_link": true
    },
    "kernelspec": {
      "name": "python3",
      "display_name": "Python 3"
    },
    "language_info": {
      "name": "python"
    }
  },
  "cells": [
    {
      "cell_type": "markdown",
      "metadata": {
        "id": "view-in-github",
        "colab_type": "text"
      },
      "source": [
        "<a href=\"https://colab.research.google.com/github/haurrego/prueba/blob/main/Operaciones.ipynb\" target=\"_parent\"><img src=\"https://colab.research.google.com/assets/colab-badge.svg\" alt=\"Open In Colab\"/></a>"
      ]
    },
    {
      "cell_type": "code",
      "execution_count": 5,
      "metadata": {
        "colab": {
          "base_uri": "https://localhost:8080/"
        },
        "id": "4m352H0TDheF",
        "outputId": "033c30cb-3ca7-4443-8397-8973a882813f"
      },
      "outputs": [
        {
          "output_type": "stream",
          "name": "stdout",
          "text": [
            "Digite primer numero 4\n",
            "Digite segundo numero 2\n",
            "4.0 + 2.0 = 6.0\n",
            "4.0 - 2.0 = 2.0\n",
            "4.0 * 2.0 = 8.0\n",
            "4.0 / 2.0 = 2.0\n"
          ]
        }
      ],
      "source": [
        "n1 = float(input(\"Digite primer numero \"))\n",
        "n2 = float(input(\"Digite segundo numero \"))\n",
        "print(f\"{n1} + {n2} = {n1+n2}\")\n",
        "print(f\"{n1} - {n2} = {n1-n2}\")\n",
        "print(f\"{n1} * {n2} = {n1*n2}\")\n",
        "if n2 == 0:\n",
        "  print(\"No divide por zero\")\n",
        "else:\n",
        "  print(f\"{n1} / {n2} = {n1/n2}\")\n"
      ]
    }
  ]
}